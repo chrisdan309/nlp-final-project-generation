{
  "nbformat": 4,
  "nbformat_minor": 0,
  "metadata": {
    "colab": {
      "provenance": []
    },
    "kernelspec": {
      "name": "python3",
      "display_name": "Python 3"
    },
    "language_info": {
      "name": "python"
    }
  },
  "cells": [
    {
      "cell_type": "code",
      "execution_count": 39,
      "metadata": {
        "id": "pxOPub4b_XHa"
      },
      "outputs": [],
      "source": [
        "import pandas as pd\n",
        "import matplotlib.pyplot as plt"
      ]
    },
    {
      "cell_type": "code",
      "source": [
        "df = pd.read_parquet('train-00000-of-00001.parquet')\n",
        "\n",
        "emotion_map = {0: 'sadness', 1: 'joy', 2: 'love', 3: 'anger', 4: 'fear', 5: 'surprise'}\n"
      ],
      "metadata": {
        "id": "spPDLXV7_aYg"
      },
      "execution_count": 48,
      "outputs": []
    },
    {
      "cell_type": "code",
      "source": [
        "import re\n",
        "\n",
        "def normalize_text(text):\n",
        "    text = text.lower()\n",
        "    text = re.sub(r'[^\\w\\s]', '', text)\n",
        "    text = re.sub(r'\\d+', '', text)\n",
        "    return text\n",
        "\n",
        "df['text'] = df['text'].apply(normalize_text)\n"
      ],
      "metadata": {
        "id": "0g_tZtzDAZWe"
      },
      "execution_count": 49,
      "outputs": []
    },
    {
      "cell_type": "code",
      "source": [
        "from nltk.corpus import stopwords\n",
        "\n",
        "import nltk\n",
        "nltk.download('stopwords')\n",
        "\n",
        "stop_words = set(stopwords.words('english'))\n",
        "\n",
        "def remove_stopwords(text):\n",
        "    words = text.split()\n",
        "    return ' '.join([word for word in words if word not in stop_words])\n",
        "\n",
        "df['text'] = df['text'].apply(remove_stopwords)\n"
      ],
      "metadata": {
        "colab": {
          "base_uri": "https://localhost:8080/"
        },
        "id": "A7r2nk1yAZvv",
        "outputId": "d3e1d2e2-f3b1-4328-fb3b-dc10458b6b2a"
      },
      "execution_count": 50,
      "outputs": [
        {
          "output_type": "stream",
          "name": "stderr",
          "text": [
            "[nltk_data] Downloading package stopwords to /root/nltk_data...\n",
            "[nltk_data]   Package stopwords is already up-to-date!\n"
          ]
        }
      ]
    },
    {
      "cell_type": "code",
      "source": [
        "from nltk.tokenize import word_tokenize\n",
        "nltk.download('punkt_tab')\n",
        "\n",
        "df['tokens'] = df['text'].apply(word_tokenize)\n"
      ],
      "metadata": {
        "colab": {
          "base_uri": "https://localhost:8080/"
        },
        "id": "OLeWhSF1BD-s",
        "outputId": "c21c6c66-0d84-44e7-c67b-6009ea306816"
      },
      "execution_count": 52,
      "outputs": [
        {
          "output_type": "stream",
          "name": "stderr",
          "text": [
            "[nltk_data] Downloading package punkt_tab to /root/nltk_data...\n",
            "[nltk_data]   Package punkt_tab is already up-to-date!\n"
          ]
        }
      ]
    },
    {
      "cell_type": "code",
      "source": [
        "label_counts = df['label'].value_counts().sort_index()\n",
        "print(label_counts)\n",
        "\n",
        "label_counts.plot(kind='bar', title='Distribución de emociones', xlabel='Emociones', ylabel='Frecuencia')\n",
        "plt.show()"
      ],
      "metadata": {
        "colab": {
          "base_uri": "https://localhost:8080/",
          "height": 615
        },
        "id": "6ehVv95L_dar",
        "outputId": "c28dc0b9-9cd6-4961-d346-252712f6b8d0"
      },
      "execution_count": 53,
      "outputs": [
        {
          "output_type": "stream",
          "name": "stdout",
          "text": [
            "label\n",
            "0    121187\n",
            "1    141067\n",
            "2     34554\n",
            "3     57317\n",
            "4     47712\n",
            "5     14972\n",
            "Name: count, dtype: int64\n"
          ]
        },
        {
          "output_type": "display_data",
          "data": {
            "text/plain": [
              "<Figure size 640x480 with 1 Axes>"
            ],
            "image/png": "[encoded data removed]"
          },
          "metadata": {}
        }
      ]
    },
    {
      "cell_type": "code",
      "source": [
        "label_proportion = df['label'].value_counts(normalize=True)\n",
        "print(label_proportion)"
      ],
      "metadata": {
        "colab": {
          "base_uri": "https://localhost:8080/"
        },
        "id": "siFZ0T3I_kfD",
        "outputId": "46009c61-8ee8-477d-8cea-9ed7b4d6286d"
      },
      "execution_count": 54,
      "outputs": [
        {
          "output_type": "stream",
          "name": "stdout",
          "text": [
            "label\n",
            "1    0.338445\n",
            "0    0.290749\n",
            "3    0.137514\n",
            "4    0.114470\n",
            "2    0.082901\n",
            "5    0.035921\n",
            "Name: proportion, dtype: float64\n"
          ]
        }
      ]
    },
    {
      "cell_type": "code",
      "source": [
        "df['text_length'] = df['text'].apply(len)\n",
        "print(df['text_length'].describe())"
      ],
      "metadata": {
        "colab": {
          "base_uri": "https://localhost:8080/"
        },
        "id": "_qwz62_SOurq",
        "outputId": "fa627668-4947-4d26-aa1b-69fd3c21ce4e"
      },
      "execution_count": 55,
      "outputs": [
        {
          "output_type": "stream",
          "name": "stdout",
          "text": [
            "count    416809.000000\n",
            "mean         61.718811\n",
            "std          35.378303\n",
            "min           0.000000\n",
            "25%          35.000000\n",
            "50%          54.000000\n",
            "75%          81.000000\n",
            "max         474.000000\n",
            "Name: text_length, dtype: float64\n"
          ]
        }
      ]
    },
    {
      "cell_type": "code",
      "source": [
        "df['text_length'].plot(kind='hist', bins=30, title='Distribución de la longitud del texto')\n",
        "plt.xlabel('Longitud del texto')\n",
        "plt.show()"
      ],
      "metadata": {
        "colab": {
          "base_uri": "https://localhost:8080/",
          "height": 472
        },
        "id": "ws-344PL_lce",
        "outputId": "c6c09617-0593-4674-9e5e-b5a9e70baa41"
      },
      "execution_count": 56,
      "outputs": [
        {
          "output_type": "display_data",
          "data": {
            "text/plain": [
              "<Figure size 640x480 with 1 Axes>"
            ],
            "image/png": "[encoded data removed]"
          },
          "metadata": {}
        }
      ]
    },
    {
      "cell_type": "code",
      "source": [
        "length_by_label = df.groupby('label')['text_length'].describe()\n",
        "print(length_by_label)"
      ],
      "metadata": {
        "colab": {
          "base_uri": "https://localhost:8080/"
        },
        "id": "Ja43B0ie_mej",
        "outputId": "8ad7312a-a296-463c-8395-9cf26bad8982"
      },
      "execution_count": 57,
      "outputs": [
        {
          "output_type": "stream",
          "name": "stdout",
          "text": [
            "          count       mean        std   min   25%   50%   75%    max\n",
            "label                                                               \n",
            "0      121187.0  59.419418  34.988122   0.0  33.0  52.0  78.0  323.0\n",
            "1      141067.0  62.769762  35.403254   0.0  36.0  55.0  82.0  282.0\n",
            "2       34554.0  65.960960  35.856218   8.0  39.0  59.0  86.0  249.0\n",
            "3       57317.0  60.917267  35.678358   0.0  34.0  53.0  80.0  474.0\n",
            "4       47712.0  61.853475  35.204518   0.0  35.0  54.0  81.0  252.0\n",
            "5       14972.0  63.277451  35.168865  10.0  37.0  56.0  82.0  248.0\n"
          ]
        }
      ]
    },
    {
      "cell_type": "code",
      "source": [
        "from collections import Counter\n",
        "\n",
        "word_counts = Counter(\" \".join(df['text']).split())\n",
        "most_common_words = word_counts.most_common(20)\n",
        "print(\"Palabras más comunes:\", most_common_words)\n"
      ],
      "metadata": {
        "colab": {
          "base_uri": "https://localhost:8080/"
        },
        "id": "QZAVDg5n_vaI",
        "outputId": "1c1e8c99-5ba9-4da0-a19c-026c011fdae9"
      },
      "execution_count": 58,
      "outputs": [
        {
          "output_type": "stream",
          "name": "stdout",
          "text": [
            "Palabras más comunes: [('feel', 289939), ('feeling', 134185), ('like', 73972), ('im', 61662), ('really', 25862), ('know', 23766), ('time', 21292), ('get', 19571), ('little', 19193), ('people', 18125), ('would', 17961), ('want', 16441), ('one', 16041), ('think', 15871), ('still', 15747), ('ive', 14866), ('even', 14850), ('much', 14426), ('life', 14009), ('something', 13417)]\n"
          ]
        }
      ]
    },
    {
      "cell_type": "code",
      "source": [
        "for label in df['label'].unique():\n",
        "    texts = df[df['label'] == label]['text']\n",
        "    word_counts = Counter(\" \".join(texts).split())\n",
        "    print(f\"Palabras más comunes para la emoción {label}: {word_counts.most_common(10)}\")\n"
      ],
      "metadata": {
        "colab": {
          "base_uri": "https://localhost:8080/"
        },
        "id": "DUVXLASZ_xR6",
        "outputId": "1854e6ef-1619-40ed-e42f-cf5db000e11f"
      },
      "execution_count": 59,
      "outputs": [
        {
          "output_type": "stream",
          "name": "stdout",
          "text": [
            "Palabras más comunes para la emoción 0: [('feel', 84184), ('feeling', 40849), ('like', 22167), ('im', 17631), ('really', 7533), ('know', 7183), ('time', 6133), ('little', 5719), ('get', 5410), ('ive', 5172)]\n",
            "Palabras más comunes para la emoción 1: [('feel', 102709), ('feeling', 40953), ('like', 25245), ('im', 20445), ('really', 8506), ('time', 7323), ('know', 7159), ('get', 6523), ('would', 5916), ('people', 5794)]\n",
            "Palabras más comunes para la emoción 2: [('feel', 24463), ('feeling', 10303), ('like', 7558), ('im', 4775), ('love', 2365), ('really', 2247), ('know', 2077), ('people', 1705), ('would', 1694), ('time', 1690)]\n",
            "Palabras más comunes para la emoción 3: [('feel', 37717), ('feeling', 19236), ('like', 10367), ('im', 9298), ('really', 3771), ('know', 3399), ('get', 3340), ('people', 3074), ('time', 2937), ('little', 2826)]\n",
            "Palabras más comunes para la emoción 4: [('feel', 30913), ('feeling', 17673), ('im', 7550), ('like', 6260), ('little', 3518), ('know', 3040), ('really', 2800), ('bit', 2424), ('time', 2418), ('still', 2390)]\n",
            "Palabras más comunes para la emoción 5: [('feel', 9953), ('feeling', 5171), ('like', 2375), ('im', 1963), ('amazed', 1415), ('impressed', 1414), ('weird', 1413), ('strange', 1400), ('overwhelmed', 1391), ('surprised', 1389)]\n"
          ]
        }
      ]
    }
  ]
}